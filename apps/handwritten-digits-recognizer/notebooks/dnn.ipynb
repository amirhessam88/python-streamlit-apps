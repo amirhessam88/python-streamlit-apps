{
 "cells": [
  {
   "cell_type": "markdown",
   "metadata": {},
   "source": [
    "# Deep Neural Network (DNN)"
   ]
  },
  {
   "cell_type": "code",
   "execution_count": 1,
   "metadata": {},
   "outputs": [
    {
     "data": {
      "text/html": [
       "<style>.container { width:95% !important; }</style>"
      ],
      "text/plain": [
       "<IPython.core.display.HTML object>"
      ]
     },
     "metadata": {},
     "output_type": "display_data"
    }
   ],
   "source": [
    "# loading libraries\n",
    "import keras\n",
    "import tensorflow as tf\n",
    "import numpy as np\n",
    "import matplotlib.pyplot as plt\n",
    "import time\n",
    "import numpy as np\n",
    "from tensorflow.keras.models import Sequential\n",
    "from tensorflow.keras.layers import Dense, Activation, Flatten, Dropout\n",
    "from keras.utils import np_utils\n",
    "import matplotlib as mpl\n",
    "import seaborn as sns\n",
    "np.random.seed(1367)\n",
    "from IPython.core.display import display, HTML\n",
    "display(HTML(\"<style>.container { width:95% !important; }</style>\"))\n",
    "sns.set_style(\"ticks\", {\"xtick.direction\": u\"in\", \"ytick.direction\": u\"in\"})\n",
    "mpl.rcParams[\"axes.linewidth\"] = 2 \n",
    "mpl.rcParams[\"lines.linewidth\"] = 3"
   ]
  },
  {
   "cell_type": "code",
   "execution_count": 2,
   "metadata": {},
   "outputs": [
    {
     "name": "stdout",
     "output_type": "stream",
     "text": [
      "Number of training samples: 60000\n",
      "Number of test samples: 10000\n",
      "Image rows: 28\n",
      "Image columns: 28\n",
      "Number of classes: 10\n"
     ]
    }
   ],
   "source": [
    "(X_train, y_train), (X_test, y_test) = keras.datasets.mnist.load_data()\n",
    "_, img_rows, img_cols =  X_train.shape\n",
    "NUM_CLASSES = len(np.unique(y_train))\n",
    "NUM_INPUT_NODES = img_rows * img_cols\n",
    "print(F\"Number of training samples: {X_train.shape[0]}\")\n",
    "print(F\"Number of test samples: {X_test.shape[0]}\")\n",
    "print(F\"Image rows: {X_train.shape[1]}\")\n",
    "print(F\"Image columns: {X_train.shape[2]}\")\n",
    "print(F\"Number of classes: {NUM_CLASSES}\")"
   ]
  },
  {
   "cell_type": "code",
   "execution_count": 3,
   "metadata": {},
   "outputs": [
    {
     "data": {
      "text/plain": [
       "(60000, 28, 28)"
      ]
     },
     "execution_count": 3,
     "metadata": {},
     "output_type": "execute_result"
    }
   ],
   "source": [
    "X_train.shape"
   ]
  },
  {
   "cell_type": "code",
   "execution_count": 4,
   "metadata": {},
   "outputs": [
    {
     "data": {
      "text/plain": [
       "(28, 28)"
      ]
     },
     "execution_count": 4,
     "metadata": {},
     "output_type": "execute_result"
    }
   ],
   "source": [
    "X_train[0].shape"
   ]
  },
  {
   "cell_type": "code",
   "execution_count": null,
   "metadata": {},
   "outputs": [],
   "source": []
  },
  {
   "cell_type": "code",
   "execution_count": 5,
   "metadata": {},
   "outputs": [
    {
     "data": {
      "image/png": "[encoded data removed]",
      "text/plain": [
       "<Figure size 720x360 with 10 Axes>"
      ]
     },
     "metadata": {},
     "output_type": "display_data"
    }
   ],
   "source": [
    "SAVE_FIG = True\n",
    "fig = plt.figure(figsize=(10,5))\n",
    "for i in range(NUM_CLASSES):\n",
    "    ax = fig.add_subplot(2, 5, 1 + i, xticks=[], yticks=[])\n",
    "    idx = X_train[y_train[:]==i,:]\n",
    "    ax.set_title(\"Class: \" + str(i) , fontsize = 20)\n",
    "    plt.imshow(idx[1], cmap=\"gray\")\n",
    "\n",
    "if SAVE_FIG:\n",
    "    plt.savefig(\"../assets/header.png\" , bbox_inches=\"tight\")\n",
    "plt.show()"
   ]
  },
  {
   "cell_type": "code",
   "execution_count": 7,
   "metadata": {},
   "outputs": [],
   "source": [
    "def dnn():\n",
    "    \"\"\"\n",
    "    Define a dnn model structure\n",
    "    \"\"\"\n",
    "    model = Sequential()\n",
    "    model.add(Flatten(input_shape=(28,28,1)))\n",
    "    model.add(Dense(units=512,\n",
    "                    activation=\"relu\")\n",
    "             )    \n",
    "    model.add(Dropout(0.25))\n",
    "    model.add(Dense(units=256,\n",
    "                    activation=\"relu\")\n",
    "             )\n",
    "    model.add(Dropout(0.2))\n",
    "    model.add(Dense(units=128,\n",
    "                    activation=\"relu\")\n",
    "             )\n",
    "    model.add(Dropout(0.15))\n",
    "    model.add(Dense(units=64,\n",
    "                    activation=\"relu\")\n",
    "             )    \n",
    "    model.add(Dropout(0.1))\n",
    "    model.add(Dense(units=NUM_CLASSES,\n",
    "                    activation=\"softmax\")\n",
    "             )\n",
    "\n",
    "    return model"
   ]
  },
  {
   "cell_type": "code",
   "execution_count": 38,
   "metadata": {},
   "outputs": [],
   "source": [
    "def plot_results(results):\n",
    "    \"\"\"\n",
    "    Plot accuracy/loss through epochs\n",
    "    \"\"\"\n",
    "    fig, axs = plt.subplots(1, 2, figsize=(15, 5))\n",
    "\n",
    "    # summarize history for accuracy\n",
    "    axs[0].plot(\n",
    "        range(1, len(results.history[\"accuracy\"]) + 1),\n",
    "        results.history[\"accuracy\"],\n",
    "        color=\"navy\",\n",
    "        ls=\"--\",\n",
    "        label=\"Training\",\n",
    "    )\n",
    "    axs[0].plot(\n",
    "        range(1, len(results.history[\"val_accuracy\"]) + 1),\n",
    "        results.history[\"val_accuracy\"],\n",
    "        color=\"cyan\",\n",
    "        ls=\"--\",\n",
    "        label=\"Validation\",\n",
    "    )\n",
    "\n",
    "    axs[0].set_ylabel(\"Accuracy\", fontsize=15)\n",
    "    axs[0].set_xlabel(\"Epoch\", fontsize=15)\n",
    "    axs[0].legend(prop={\"size\": 13}, loc=0, framealpha=0.0)\n",
    "\n",
    "    # summarize history for loss\n",
    "    axs[1].plot(\n",
    "        range(1, len(results.history[\"loss\"]) + 1),\n",
    "        results.history[\"loss\"],\n",
    "        color=\"navy\",\n",
    "        ls=\"--\",\n",
    "        label=\"Training\",\n",
    "    )\n",
    "    axs[1].plot(\n",
    "        range(1, len(results.history[\"val_loss\"]) + 1),\n",
    "        results.history[\"val_loss\"],\n",
    "        color=\"cyan\",\n",
    "        ls=\"--\",\n",
    "        label=\"Validation\",\n",
    "    )\n",
    "\n",
    "    axs[1].set_ylabel(\"Loss\", fontsize=15)\n",
    "    axs[1].set_xlabel(\"Epoch\", fontsize=15)\n",
    "    axs[1].legend(prop={\"size\": 13}, loc=0, framealpha=0.0)\n",
    "    \n",
    "    plt.savefig(\"../assets/performance_dnn.png\" , bbox_inches=\"tight\")\n",
    "    plt.show()\n"
   ]
  },
  {
   "cell_type": "code",
   "execution_count": 19,
   "metadata": {},
   "outputs": [],
   "source": [
    "def accuracy(results, X_test, y_test):\n",
    "    \"\"\"\n",
    "    Accuracy metric\n",
    "    \"\"\"\n",
    "    y_pred_proba = results.model.predict(X_test)\n",
    "    y_pred = np.argmax(y_pred_proba, axis=1)\n",
    "    num_correct = np.sum(y_pred == y_test)\n",
    "    accuracy = float(num_correct) / y_pred_proba.shape[0]\n",
    "    \n",
    "    return accuracy * 100"
   ]
  },
  {
   "cell_type": "markdown",
   "metadata": {},
   "source": [
    "## Training"
   ]
  },
  {
   "cell_type": "code",
   "execution_count": 10,
   "metadata": {},
   "outputs": [
    {
     "name": "stdout",
     "output_type": "stream",
     "text": [
      "Epoch 1/25\n",
      "1875/1875 [==============================] - 10s 5ms/step - loss: 6.1539 - accuracy: 0.6128 - val_loss: 0.2772 - val_accuracy: 0.9258\n",
      "Epoch 2/25\n",
      "1875/1875 [==============================] - 9s 5ms/step - loss: 0.4295 - accuracy: 0.8812 - val_loss: 0.1999 - val_accuracy: 0.9450\n",
      "Epoch 3/25\n",
      "1875/1875 [==============================] - 9s 5ms/step - loss: 0.3041 - accuracy: 0.9184 - val_loss: 0.1796 - val_accuracy: 0.9517\n",
      "Epoch 4/25\n",
      "1875/1875 [==============================] - 9s 5ms/step - loss: 0.2356 - accuracy: 0.9372 - val_loss: 0.1318 - val_accuracy: 0.9647\n",
      "Epoch 5/25\n",
      "1875/1875 [==============================] - 9s 5ms/step - loss: 0.1923 - accuracy: 0.9491 - val_loss: 0.1257 - val_accuracy: 0.9649\n",
      "Epoch 6/25\n",
      "1875/1875 [==============================] - 9s 5ms/step - loss: 0.1658 - accuracy: 0.9548 - val_loss: 0.1181 - val_accuracy: 0.9671\n",
      "Epoch 7/25\n",
      "1875/1875 [==============================] - 9s 5ms/step - loss: 0.1554 - accuracy: 0.9572 - val_loss: 0.1176 - val_accuracy: 0.9695\n",
      "Epoch 8/25\n",
      "1875/1875 [==============================] - 9s 5ms/step - loss: 0.1350 - accuracy: 0.9649 - val_loss: 0.1016 - val_accuracy: 0.9742\n",
      "Epoch 9/25\n",
      "1875/1875 [==============================] - 9s 5ms/step - loss: 0.1199 - accuracy: 0.9697 - val_loss: 0.0995 - val_accuracy: 0.9766\n",
      "Epoch 10/25\n",
      "1875/1875 [==============================] - 9s 5ms/step - loss: 0.1062 - accuracy: 0.9718 - val_loss: 0.1000 - val_accuracy: 0.9751\n",
      "Epoch 11/25\n",
      "1875/1875 [==============================] - 9s 5ms/step - loss: 0.1050 - accuracy: 0.9726 - val_loss: 0.1055 - val_accuracy: 0.9761\n",
      "Epoch 12/25\n",
      "1875/1875 [==============================] - 9s 5ms/step - loss: 0.1029 - accuracy: 0.9749 - val_loss: 0.0954 - val_accuracy: 0.9781\n",
      "Epoch 13/25\n",
      "1875/1875 [==============================] - 9s 5ms/step - loss: 0.0887 - accuracy: 0.9769 - val_loss: 0.0774 - val_accuracy: 0.9793\n",
      "Epoch 14/25\n",
      "1875/1875 [==============================] - 9s 5ms/step - loss: 0.0845 - accuracy: 0.9787 - val_loss: 0.0967 - val_accuracy: 0.9765\n",
      "Epoch 15/25\n",
      "1875/1875 [==============================] - 9s 5ms/step - loss: 0.0817 - accuracy: 0.9778 - val_loss: 0.0967 - val_accuracy: 0.9778\n",
      "Epoch 16/25\n",
      "1875/1875 [==============================] - 9s 5ms/step - loss: 0.0846 - accuracy: 0.9783 - val_loss: 0.0901 - val_accuracy: 0.9803\n",
      "Epoch 17/25\n",
      "1875/1875 [==============================] - 10s 5ms/step - loss: 0.0742 - accuracy: 0.9793 - val_loss: 0.0846 - val_accuracy: 0.9801\n",
      "Epoch 18/25\n",
      "1875/1875 [==============================] - 9s 5ms/step - loss: 0.0692 - accuracy: 0.9824 - val_loss: 0.0819 - val_accuracy: 0.9809\n",
      "Epoch 19/25\n",
      "1875/1875 [==============================] - 9s 5ms/step - loss: 0.0600 - accuracy: 0.9839 - val_loss: 0.1163 - val_accuracy: 0.9764\n",
      "Epoch 20/25\n",
      "1875/1875 [==============================] - 9s 5ms/step - loss: 0.0603 - accuracy: 0.9835 - val_loss: 0.1128 - val_accuracy: 0.9797\n",
      "Epoch 21/25\n",
      "1875/1875 [==============================] - 9s 5ms/step - loss: 0.0623 - accuracy: 0.9847 - val_loss: 0.1082 - val_accuracy: 0.9789\n",
      "Epoch 22/25\n",
      "1875/1875 [==============================] - 9s 5ms/step - loss: 0.0535 - accuracy: 0.9863 - val_loss: 0.1384 - val_accuracy: 0.9823\n",
      "Epoch 23/25\n",
      "1875/1875 [==============================] - 9s 5ms/step - loss: 0.0686 - accuracy: 0.9840 - val_loss: 0.0931 - val_accuracy: 0.9801\n",
      "Epoch 24/25\n",
      "1875/1875 [==============================] - 9s 5ms/step - loss: 0.0621 - accuracy: 0.9842 - val_loss: 0.1009 - val_accuracy: 0.9820\n",
      "Epoch 25/25\n",
      "1875/1875 [==============================] - 9s 5ms/step - loss: 0.0582 - accuracy: 0.9857 - val_loss: 0.1055 - val_accuracy: 0.9829\n"
     ]
    }
   ],
   "source": [
    "# define model\n",
    "model = dnn()\n",
    "\n",
    "# compile\n",
    "model.compile(optimizer=tf.keras.optimizers.Adam(0.0005),\n",
    "              loss=\"sparse_categorical_crossentropy\", \n",
    "              metrics=[\"accuracy\"])\n",
    "\n",
    "start = time.time()\n",
    "\n",
    "# fit\n",
    "results = model.fit(X_train, y_train,\n",
    "                    batch_size=32,\n",
    "                    epochs=25,\n",
    "                    verbose=1,\n",
    "                    validation_data=(X_test , y_test))\n",
    "\n",
    "end = time.time()\n",
    "time_elapsed = end - start"
   ]
  },
  {
   "cell_type": "code",
   "execution_count": 11,
   "metadata": {},
   "outputs": [
    {
     "name": "stdout",
     "output_type": "stream",
     "text": [
      "Model: \"sequential\"\n",
      "_________________________________________________________________\n",
      "Layer (type)                 Output Shape              Param #   \n",
      "=================================================================\n",
      "flatten (Flatten)            (None, 784)               0         \n",
      "_________________________________________________________________\n",
      "dense (Dense)                (None, 512)               401920    \n",
      "_________________________________________________________________\n",
      "dropout (Dropout)            (None, 512)               0         \n",
      "_________________________________________________________________\n",
      "dense_1 (Dense)              (None, 256)               131328    \n",
      "_________________________________________________________________\n",
      "dropout_1 (Dropout)          (None, 256)               0         \n",
      "_________________________________________________________________\n",
      "dense_2 (Dense)              (None, 128)               32896     \n",
      "_________________________________________________________________\n",
      "dropout_2 (Dropout)          (None, 128)               0         \n",
      "_________________________________________________________________\n",
      "dense_3 (Dense)              (None, 64)                8256      \n",
      "_________________________________________________________________\n",
      "dropout_3 (Dropout)          (None, 64)                0         \n",
      "_________________________________________________________________\n",
      "dense_4 (Dense)              (None, 10)                650       \n",
      "=================================================================\n",
      "Total params: 575,050\n",
      "Trainable params: 575,050\n",
      "Non-trainable params: 0\n",
      "_________________________________________________________________\n"
     ]
    }
   ],
   "source": [
    "results.model.summary()"
   ]
  },
  {
   "cell_type": "code",
   "execution_count": 39,
   "metadata": {},
   "outputs": [
    {
     "data": {
      "image/png": "[encoded data removed]",
      "text/plain": [
       "<Figure size 1080x360 with 2 Axes>"
      ]
     },
     "metadata": {},
     "output_type": "display_data"
    },
    {
     "name": "stdout",
     "output_type": "stream",
     "text": [
      "Model took 222.957 seconds to train\n",
      "Accuracy on test data is: 98.29%\n"
     ]
    }
   ],
   "source": [
    "# plot model history\n",
    "plot_results(results)\n",
    "\n",
    "print(F\"Model took {time_elapsed:.3f} seconds to train\")\n",
    "\n",
    "# compute test accuracy\n",
    "print(F\"Accuracy on test data is: {accuracy(results, X_test, y_test):.2f}%\")"
   ]
  },
  {
   "cell_type": "code",
   "execution_count": 21,
   "metadata": {},
   "outputs": [],
   "source": [
    "# saving model\n",
    "results.model.save(\"../assets/model_dnn.h5\")"
   ]
  },
  {
   "cell_type": "code",
   "execution_count": 22,
   "metadata": {},
   "outputs": [],
   "source": [
    "\n",
    "m = tf.keras.models.load_model(\"../assets/model_dnn.h5\")"
   ]
  },
  {
   "cell_type": "code",
   "execution_count": 23,
   "metadata": {},
   "outputs": [
    {
     "name": "stdout",
     "output_type": "stream",
     "text": [
      "Model: \"sequential\"\n",
      "_________________________________________________________________\n",
      "Layer (type)                 Output Shape              Param #   \n",
      "=================================================================\n",
      "flatten (Flatten)            (None, 784)               0         \n",
      "_________________________________________________________________\n",
      "dense (Dense)                (None, 512)               401920    \n",
      "_________________________________________________________________\n",
      "dropout (Dropout)            (None, 512)               0         \n",
      "_________________________________________________________________\n",
      "dense_1 (Dense)              (None, 256)               131328    \n",
      "_________________________________________________________________\n",
      "dropout_1 (Dropout)          (None, 256)               0         \n",
      "_________________________________________________________________\n",
      "dense_2 (Dense)              (None, 128)               32896     \n",
      "_________________________________________________________________\n",
      "dropout_2 (Dropout)          (None, 128)               0         \n",
      "_________________________________________________________________\n",
      "dense_3 (Dense)              (None, 64)                8256      \n",
      "_________________________________________________________________\n",
      "dropout_3 (Dropout)          (None, 64)                0         \n",
      "_________________________________________________________________\n",
      "dense_4 (Dense)              (None, 10)                650       \n",
      "=================================================================\n",
      "Total params: 575,050\n",
      "Trainable params: 575,050\n",
      "Non-trainable params: 0\n",
      "_________________________________________________________________\n"
     ]
    }
   ],
   "source": [
    "m.summary()"
   ]
  },
  {
   "cell_type": "code",
   "execution_count": null,
   "metadata": {},
   "outputs": [],
   "source": []
  }
 ],
 "metadata": {
  "kernelspec": {
   "display_name": "Python 3",
   "language": "python",
   "name": "python3"
  },
  "language_info": {
   "codemirror_mode": {
    "name": "ipython",
    "version": 3
   },
   "file_extension": ".py",
   "mimetype": "text/x-python",
   "name": "python",
   "nbconvert_exporter": "python",
   "pygments_lexer": "ipython3",
   "version": "3.7.6"
  }
 },
 "nbformat": 4,
 "nbformat_minor": 4
}
