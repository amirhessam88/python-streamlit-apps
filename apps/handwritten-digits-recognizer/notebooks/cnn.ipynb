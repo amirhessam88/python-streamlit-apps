{
 "cells": [
  {
   "cell_type": "markdown",
   "metadata": {},
   "source": [
    "# Convolutional Neural Network (CNN)"
   ]
  },
  {
   "cell_type": "code",
   "execution_count": 1,
   "metadata": {},
   "outputs": [
    {
     "data": {
      "text/html": [
       "<style>.container { width:95% !important; }</style>"
      ],
      "text/plain": [
       "<IPython.core.display.HTML object>"
      ]
     },
     "metadata": {},
     "output_type": "display_data"
    }
   ],
   "source": [
    "# loading libraries\n",
    "import keras\n",
    "import tensorflow as tf\n",
    "import numpy as np\n",
    "import matplotlib.pyplot as plt\n",
    "import time\n",
    "import numpy as np\n",
    "from tensorflow.keras.models import Sequential\n",
    "from tensorflow.keras.layers import Dense, Activation, Flatten, Dropout, Conv2D, MaxPooling2D\n",
    "import matplotlib as mpl\n",
    "import seaborn as sns\n",
    "np.random.seed(1367)\n",
    "from IPython.core.display import display, HTML\n",
    "display(HTML(\"<style>.container { width:95% !important; }</style>\"))\n",
    "sns.set_style(\"ticks\", {\"xtick.direction\": u\"in\", \"ytick.direction\": u\"in\"})\n",
    "mpl.rcParams[\"axes.linewidth\"] = 2 \n",
    "mpl.rcParams[\"lines.linewidth\"] = 3"
   ]
  },
  {
   "cell_type": "code",
   "execution_count": 2,
   "metadata": {},
   "outputs": [
    {
     "name": "stdout",
     "output_type": "stream",
     "text": [
      "Number of training samples: 60000\n",
      "Number of test samples: 10000\n",
      "Image rows: 28\n",
      "Image columns: 28\n",
      "Number of classes: 10\n"
     ]
    }
   ],
   "source": [
    "(X_train, y_train), (X_test, y_test) = keras.datasets.mnist.load_data()\n",
    "_, img_rows, img_cols =  X_train.shape\n",
    "NUM_CLASSES = len(np.unique(y_train))\n",
    "NUM_INPUT_NODES = img_rows * img_cols\n",
    "print(F\"Number of training samples: {X_train.shape[0]}\")\n",
    "print(F\"Number of test samples: {X_test.shape[0]}\")\n",
    "print(F\"Image rows: {X_train.shape[1]}\")\n",
    "print(F\"Image columns: {X_train.shape[2]}\")\n",
    "print(F\"Number of classes: {NUM_CLASSES}\")"
   ]
  },
  {
   "cell_type": "code",
   "execution_count": 3,
   "metadata": {},
   "outputs": [
    {
     "data": {
      "text/plain": [
       "(60000, 28, 28)"
      ]
     },
     "execution_count": 3,
     "metadata": {},
     "output_type": "execute_result"
    }
   ],
   "source": [
    "X_train.shape"
   ]
  },
  {
   "cell_type": "code",
   "execution_count": 4,
   "metadata": {},
   "outputs": [
    {
     "name": "stdout",
     "output_type": "stream",
     "text": [
      "X_train shape: (60000, 28, 28, 1)\n"
     ]
    }
   ],
   "source": [
    "#reshaping\n",
    "#this assumes our data format\n",
    "#For 3D data, \"channels_last\" assumes (conv_dim1, conv_dim2, conv_dim3, channels) while \n",
    "#\"channels_first\" assumes (channels, conv_dim1, conv_dim2, conv_dim3).\n",
    "if tf.keras.backend.image_data_format() == \"channels_first\":\n",
    "    X_train = X_train.reshape(X_train.shape[0], 1, img_rows, img_cols)\n",
    "    X_test = X_test.reshape(X_test.shape[0], 1, img_rows, img_cols)\n",
    "    input_shape = (1, img_rows, img_cols)\n",
    "else:\n",
    "    X_train = X_train.reshape(X_train.shape[0], img_rows, img_cols, 1)\n",
    "    X_test = X_test.reshape(X_test.shape[0], img_rows, img_cols, 1)\n",
    "    input_shape = (img_rows, img_cols, 1)\n",
    "#more reshaping\n",
    "X_train = X_train.astype(\"float32\")\n",
    "X_test = X_test.astype(\"float32\")\n",
    "X_train /= 255\n",
    "X_test /= 255\n",
    "print(\"X_train shape:\", X_train.shape) #X_train shape: (60000, 28, 28, 1)"
   ]
  },
  {
   "cell_type": "code",
   "execution_count": 5,
   "metadata": {},
   "outputs": [
    {
     "data": {
      "image/png": "[encoded data removed]",
      "text/plain": [
       "<Figure size 720x360 with 10 Axes>"
      ]
     },
     "metadata": {},
     "output_type": "display_data"
    }
   ],
   "source": [
    "SAVE_FIG = True\n",
    "fig = plt.figure(figsize=(10,5))\n",
    "for i in range(NUM_CLASSES):\n",
    "    ax = fig.add_subplot(2, 5, 1 + i, xticks=[], yticks=[])\n",
    "    idx = X_train[y_train[:]==i,:]\n",
    "    ax.set_title(\"Class: \" + str(i) , fontsize = 20)\n",
    "    plt.imshow(idx[1], cmap=\"gray\")\n",
    "\n",
    "if SAVE_FIG:\n",
    "    plt.savefig(\"../assets/header.png\" , bbox_inches=\"tight\")\n",
    "plt.show()"
   ]
  },
  {
   "cell_type": "code",
   "execution_count": 6,
   "metadata": {},
   "outputs": [],
   "source": [
    "def cnn():\n",
    "    \"\"\"\n",
    "    Define a cnn model structure\n",
    "    \"\"\"\n",
    "    model = Sequential()\n",
    "    model.add(Conv2D(32, kernel_size=(3, 3),\n",
    "                     activation=\"relu\",\n",
    "                     input_shape=input_shape))\n",
    "    model.add(Conv2D(64, (3, 3), activation=\"relu\"))\n",
    "    model.add(MaxPooling2D(pool_size=(2, 2)))\n",
    "    model.add(Dropout(0.25))\n",
    "    model.add(Flatten())\n",
    "    model.add(Dense(128, activation=\"relu\"))\n",
    "    model.add(Dropout(0.5))\n",
    "    model.add(Dense(NUM_CLASSES, activation=\"softmax\"))\n",
    "\n",
    "    return model\n"
   ]
  },
  {
   "cell_type": "code",
   "execution_count": 7,
   "metadata": {},
   "outputs": [],
   "source": [
    "def plot_results(results):\n",
    "    \"\"\"\n",
    "    Plot accuracy/loss through epochs\n",
    "    \"\"\"\n",
    "    fig, axs = plt.subplots(1, 2, figsize=(15, 5))\n",
    "\n",
    "    # summarize history for accuracy\n",
    "    axs[0].plot(\n",
    "        range(1, len(results.history[\"accuracy\"]) + 1),\n",
    "        results.history[\"accuracy\"],\n",
    "        color=\"navy\",\n",
    "        ls=\"--\",\n",
    "        label=\"Training\",\n",
    "    )\n",
    "    axs[0].plot(\n",
    "        range(1, len(results.history[\"val_accuracy\"]) + 1),\n",
    "        results.history[\"val_accuracy\"],\n",
    "        color=\"cyan\",\n",
    "        ls=\"--\",\n",
    "        label=\"Validation\",\n",
    "    )\n",
    "\n",
    "    axs[0].set_ylabel(\"Accuracy\", fontsize=15)\n",
    "    axs[0].set_xlabel(\"Epoch\", fontsize=15)\n",
    "    axs[0].legend(prop={\"size\": 13}, loc=0, framealpha=0.0)\n",
    "\n",
    "    # summarize history for loss\n",
    "    axs[1].plot(\n",
    "        range(1, len(results.history[\"loss\"]) + 1),\n",
    "        results.history[\"loss\"],\n",
    "        color=\"navy\",\n",
    "        ls=\"--\",\n",
    "        label=\"Training\",\n",
    "    )\n",
    "    axs[1].plot(\n",
    "        range(1, len(results.history[\"val_loss\"]) + 1),\n",
    "        results.history[\"val_loss\"],\n",
    "        color=\"cyan\",\n",
    "        ls=\"--\",\n",
    "        label=\"Validation\",\n",
    "    )\n",
    "\n",
    "    axs[1].set_ylabel(\"Loss\", fontsize=15)\n",
    "    axs[1].set_xlabel(\"Epoch\", fontsize=15)\n",
    "    axs[1].legend(prop={\"size\": 13}, loc=0, framealpha=0.0)\n",
    "    \n",
    "    plt.savefig(\"../assets/performance_cnn.png\" , bbox_inches=\"tight\")\n",
    "    plt.show()\n"
   ]
  },
  {
   "cell_type": "code",
   "execution_count": 8,
   "metadata": {},
   "outputs": [],
   "source": [
    "def accuracy(results, X_test, y_test):\n",
    "    \"\"\"\n",
    "    Accuracy metric\n",
    "    \"\"\"\n",
    "    y_pred_proba = results.model.predict(X_test)\n",
    "    y_pred = np.argmax(y_pred_proba, axis=1)\n",
    "    num_correct = np.sum(y_pred == y_test)\n",
    "    accuracy = float(num_correct) / y_pred_proba.shape[0]\n",
    "    \n",
    "    return accuracy * 100"
   ]
  },
  {
   "cell_type": "markdown",
   "metadata": {},
   "source": [
    "## Training"
   ]
  },
  {
   "cell_type": "code",
   "execution_count": 9,
   "metadata": {},
   "outputs": [
    {
     "name": "stdout",
     "output_type": "stream",
     "text": [
      "Epoch 1/25\n",
      "1875/1875 [==============================] - 100s 53ms/step - loss: 0.4231 - accuracy: 0.8676 - val_loss: 0.0522 - val_accuracy: 0.9827\n",
      "Epoch 2/25\n",
      "1875/1875 [==============================] - 103s 55ms/step - loss: 0.0870 - accuracy: 0.9746 - val_loss: 0.0418 - val_accuracy: 0.9860\n",
      "Epoch 3/25\n",
      "1875/1875 [==============================] - 103s 55ms/step - loss: 0.0628 - accuracy: 0.9799 - val_loss: 0.0367 - val_accuracy: 0.9871\n",
      "Epoch 4/25\n",
      "1875/1875 [==============================] - 103s 55ms/step - loss: 0.0492 - accuracy: 0.9851 - val_loss: 0.0409 - val_accuracy: 0.9886\n",
      "Epoch 5/25\n",
      "1875/1875 [==============================] - 103s 55ms/step - loss: 0.0398 - accuracy: 0.9883 - val_loss: 0.0284 - val_accuracy: 0.9914\n",
      "Epoch 6/25\n",
      "1875/1875 [==============================] - 103s 55ms/step - loss: 0.0364 - accuracy: 0.9882 - val_loss: 0.0288 - val_accuracy: 0.9918\n",
      "Epoch 7/25\n",
      "1875/1875 [==============================] - 103s 55ms/step - loss: 0.0314 - accuracy: 0.9904 - val_loss: 0.0279 - val_accuracy: 0.9918\n",
      "Epoch 8/25\n",
      "1875/1875 [==============================] - 103s 55ms/step - loss: 0.0283 - accuracy: 0.9911 - val_loss: 0.0252 - val_accuracy: 0.9919\n",
      "Epoch 9/25\n",
      "1875/1875 [==============================] - 103s 55ms/step - loss: 0.0229 - accuracy: 0.9928 - val_loss: 0.0270 - val_accuracy: 0.9922\n",
      "Epoch 10/25\n",
      "1875/1875 [==============================] - 103s 55ms/step - loss: 0.0195 - accuracy: 0.9940 - val_loss: 0.0278 - val_accuracy: 0.9917\n",
      "Epoch 11/25\n",
      "1875/1875 [==============================] - 103s 55ms/step - loss: 0.0203 - accuracy: 0.9934 - val_loss: 0.0267 - val_accuracy: 0.9930\n",
      "Epoch 12/25\n",
      "1875/1875 [==============================] - 103s 55ms/step - loss: 0.0201 - accuracy: 0.9937 - val_loss: 0.0302 - val_accuracy: 0.9919\n",
      "Epoch 13/25\n",
      "1875/1875 [==============================] - 103s 55ms/step - loss: 0.0175 - accuracy: 0.9947 - val_loss: 0.0266 - val_accuracy: 0.9926\n",
      "Epoch 14/25\n",
      "1875/1875 [==============================] - 103s 55ms/step - loss: 0.0169 - accuracy: 0.9938 - val_loss: 0.0315 - val_accuracy: 0.9921\n",
      "Epoch 15/25\n",
      "1875/1875 [==============================] - 103s 55ms/step - loss: 0.0146 - accuracy: 0.9952 - val_loss: 0.0348 - val_accuracy: 0.9905\n",
      "Epoch 16/25\n",
      "1875/1875 [==============================] - 103s 55ms/step - loss: 0.0141 - accuracy: 0.9956 - val_loss: 0.0266 - val_accuracy: 0.9933\n",
      "Epoch 17/25\n",
      "1875/1875 [==============================] - 103s 55ms/step - loss: 0.0120 - accuracy: 0.9958 - val_loss: 0.0272 - val_accuracy: 0.9935\n",
      "Epoch 18/25\n",
      "1875/1875 [==============================] - 103s 55ms/step - loss: 0.0134 - accuracy: 0.9955 - val_loss: 0.0290 - val_accuracy: 0.9929\n",
      "Epoch 19/25\n",
      "1875/1875 [==============================] - 103s 55ms/step - loss: 0.0124 - accuracy: 0.9961 - val_loss: 0.0295 - val_accuracy: 0.9933\n",
      "Epoch 20/25\n",
      "1875/1875 [==============================] - 103s 55ms/step - loss: 0.0103 - accuracy: 0.9964 - val_loss: 0.0361 - val_accuracy: 0.9921\n",
      "Epoch 21/25\n",
      "1875/1875 [==============================] - 103s 55ms/step - loss: 0.0112 - accuracy: 0.9960 - val_loss: 0.0291 - val_accuracy: 0.9940\n",
      "Epoch 22/25\n",
      "1875/1875 [==============================] - 103s 55ms/step - loss: 0.0102 - accuracy: 0.9967 - val_loss: 0.0337 - val_accuracy: 0.9929\n",
      "Epoch 23/25\n",
      "1875/1875 [==============================] - 103s 55ms/step - loss: 0.0086 - accuracy: 0.9968 - val_loss: 0.0416 - val_accuracy: 0.9922\n",
      "Epoch 24/25\n",
      "1875/1875 [==============================] - 104s 55ms/step - loss: 0.0111 - accuracy: 0.9965 - val_loss: 0.0365 - val_accuracy: 0.9921\n",
      "Epoch 25/25\n",
      "1875/1875 [==============================] - 103s 55ms/step - loss: 0.0082 - accuracy: 0.9970 - val_loss: 0.0350 - val_accuracy: 0.9926\n"
     ]
    }
   ],
   "source": [
    "# define model\n",
    "model = cnn()\n",
    "\n",
    "# compile\n",
    "model.compile(optimizer=tf.keras.optimizers.Adam(0.0005),\n",
    "              loss=\"sparse_categorical_crossentropy\", \n",
    "              metrics=[\"accuracy\"])\n",
    "\n",
    "start = time.time()\n",
    "\n",
    "# fit\n",
    "results = model.fit(X_train, y_train,\n",
    "                    batch_size=32,\n",
    "                    epochs=25,\n",
    "                    verbose=1,\n",
    "                    validation_data=(X_test , y_test))\n",
    "\n",
    "end = time.time()\n",
    "time_elapsed = end - start"
   ]
  },
  {
   "cell_type": "code",
   "execution_count": 10,
   "metadata": {},
   "outputs": [
    {
     "name": "stdout",
     "output_type": "stream",
     "text": [
      "Model: \"sequential\"\n",
      "_________________________________________________________________\n",
      "Layer (type)                 Output Shape              Param #   \n",
      "=================================================================\n",
      "conv2d (Conv2D)              (None, 26, 26, 32)        320       \n",
      "_________________________________________________________________\n",
      "conv2d_1 (Conv2D)            (None, 24, 24, 64)        18496     \n",
      "_________________________________________________________________\n",
      "max_pooling2d (MaxPooling2D) (None, 12, 12, 64)        0         \n",
      "_________________________________________________________________\n",
      "dropout (Dropout)            (None, 12, 12, 64)        0         \n",
      "_________________________________________________________________\n",
      "flatten (Flatten)            (None, 9216)              0         \n",
      "_________________________________________________________________\n",
      "dense (Dense)                (None, 128)               1179776   \n",
      "_________________________________________________________________\n",
      "dropout_1 (Dropout)          (None, 128)               0         \n",
      "_________________________________________________________________\n",
      "dense_1 (Dense)              (None, 10)                1290      \n",
      "=================================================================\n",
      "Total params: 1,199,882\n",
      "Trainable params: 1,199,882\n",
      "Non-trainable params: 0\n",
      "_________________________________________________________________\n"
     ]
    }
   ],
   "source": [
    "results.model.summary()"
   ]
  },
  {
   "cell_type": "code",
   "execution_count": 11,
   "metadata": {},
   "outputs": [
    {
     "data": {
      "image/png": "[encoded data removed]",
      "text/plain": [
       "<Figure size 1080x360 with 2 Axes>"
      ]
     },
     "metadata": {},
     "output_type": "display_data"
    },
    {
     "name": "stdout",
     "output_type": "stream",
     "text": [
      "Model took 2573.433 seconds to train\n",
      "Accuracy on test data is: 99.26%\n"
     ]
    }
   ],
   "source": [
    "# plot model history\n",
    "plot_results(results)\n",
    "\n",
    "print(F\"Model took {time_elapsed:.3f} seconds to train\")\n",
    "\n",
    "# compute test accuracy\n",
    "print(F\"Accuracy on test data is: {accuracy(results, X_test, y_test):.2f}%\")"
   ]
  },
  {
   "cell_type": "code",
   "execution_count": 12,
   "metadata": {},
   "outputs": [],
   "source": [
    "# saving model\n",
    "results.model.save(\"../assets/model_cnn.h5\")"
   ]
  },
  {
   "cell_type": "code",
   "execution_count": 13,
   "metadata": {},
   "outputs": [],
   "source": [
    "m = tf.keras.models.load_model(\"../assets/model_cnn.h5\")"
   ]
  },
  {
   "cell_type": "code",
   "execution_count": 14,
   "metadata": {},
   "outputs": [
    {
     "name": "stdout",
     "output_type": "stream",
     "text": [
      "Model: \"sequential\"\n",
      "_________________________________________________________________\n",
      "Layer (type)                 Output Shape              Param #   \n",
      "=================================================================\n",
      "conv2d (Conv2D)              (None, 26, 26, 32)        320       \n",
      "_________________________________________________________________\n",
      "conv2d_1 (Conv2D)            (None, 24, 24, 64)        18496     \n",
      "_________________________________________________________________\n",
      "max_pooling2d (MaxPooling2D) (None, 12, 12, 64)        0         \n",
      "_________________________________________________________________\n",
      "dropout (Dropout)            (None, 12, 12, 64)        0         \n",
      "_________________________________________________________________\n",
      "flatten (Flatten)            (None, 9216)              0         \n",
      "_________________________________________________________________\n",
      "dense (Dense)                (None, 128)               1179776   \n",
      "_________________________________________________________________\n",
      "dropout_1 (Dropout)          (None, 128)               0         \n",
      "_________________________________________________________________\n",
      "dense_1 (Dense)              (None, 10)                1290      \n",
      "=================================================================\n",
      "Total params: 1,199,882\n",
      "Trainable params: 1,199,882\n",
      "Non-trainable params: 0\n",
      "_________________________________________________________________\n"
     ]
    }
   ],
   "source": [
    "m.summary()"
   ]
  },
  {
   "cell_type": "code",
   "execution_count": null,
   "metadata": {},
   "outputs": [],
   "source": []
  }
 ],
 "metadata": {
  "kernelspec": {
   "display_name": "Python 3",
   "language": "python",
   "name": "python3"
  },
  "language_info": {
   "codemirror_mode": {
    "name": "ipython",
    "version": 3
   },
   "file_extension": ".py",
   "mimetype": "text/x-python",
   "name": "python",
   "nbconvert_exporter": "python",
   "pygments_lexer": "ipython3",
   "version": "3.7.6"
  }
 },
 "nbformat": 4,
 "nbformat_minor": 4
}
