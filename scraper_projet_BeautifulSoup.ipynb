{
 "cells": [
  {
   "cell_type": "code",
   "execution_count": 1,
   "id": "2f6fba56",
   "metadata": {},
   "outputs": [],
   "source": [
    "import pandas as pd\n",
    "from requests import get #recuperer le code html de la page web\n",
    "from bs4 import BeautifulSoup as bs #transformer le code html en objet BeautifulSoup"
   ]
  },
  {
   "cell_type": "code",
   "execution_count": 2,
   "id": "87601e1b",
   "metadata": {},
   "outputs": [],
   "source": [
    "# url de la page\n",
    "url = 'https://www.expat-dakar.com/appartements-a-louer'\n",
    "res = get(url) # recuperer le code html de la page\n",
    "soup = bs(res.text , 'html.parser') # code html en objet beautifulsoup\n",
    "containers = soup.find_all('div', class_ = 'listing-card__content 1')"
   ]
  },
  {
   "cell_type": "code",
   "execution_count": 3,
   "id": "92b1d6cf",
   "metadata": {},
   "outputs": [
    {
     "data": {
      "text/plain": [
       "<div class=\"listing-card__content 1\"><div class=\"listing-card__content__inner\"><div class=\"listing-card__header\"><div class=\"listing-card__header-content\"><div class=\"listing-card__header__title\">\n",
       "Appartement neuf à louer aux Almadies\n",
       "</div><div class=\"listing-card__header__tags\"><span class=\"listing-card__header__tags__item listing-card__header__tags__item--no-of-bedrooms listing-card__header__tags__item--no-of-bedrooms_3\">3 chambre</span></div><div class=\"listing-card__header__location\"><svg aria-hidden=\"true\" class=\"i i-gmaps\"><use xlink:href=\"https://www.expat-dakar.com/assets/ed-site/icons/map.fe1c344c.svg#gmaps\"></use></svg>\n",
       "Almadies,\n",
       "Dakar\n",
       "</div></div></div><div class=\"listing-card__date-line\"><div class=\"listing-card__header__date\">\n",
       "11. janv., 09:49\n",
       "</div><span class=\"listing-card__header__verified-seller\"><svg aria-hidden=\"true\" class=\"i i-verified-seller\"><use xlink:href=\"https://www.expat-dakar.com/assets/ed-site/icons/map.fe1c344c.svg#verified-seller\"></use></svg><span>\n",
       "Vendeur vérifié\n",
       "</span></span></div><div class=\"listing-card__info-bar\"><div class=\"listing-card__info-bar__price\"><span class=\"listing-card__price\"><span class=\"listing-card__price__value 1\">\n",
       "800 000 F Cfa\n",
       "</span></span></div><!--googleoff: index--><div class=\"listing-card__info-bar__contact\"><object alt=\"Contacter par Téléphone\" class=\"listing-card__contact listing-card__contact--phone\"><form accept-charset=\"UTF-8\" action=\"https://www.expat-dakar.com/annonce/appartement-neuf-a-louer-aux-almadies-5977482/view-phone\" class=\"listing-card__contact__container\" data-listing-card-show-phone=\"\" data-listing-card-show-phone-container=\".listing-card\" data-listing-card-show-phone-popover=\".listing-card__contact__number\" data-t-contact_context=\"card\" data-t-contact_type=\"phone\" data-t-enquiry-show=\"\" data-t-listing_category_slug=\"appartements-a-louer\" data-t-listing_category_title=\"Appartements à louer\" data-t-listing_context=\"search\" data-t-listing_currency=\"XOF\" data-t-listing_id=\"5977482\" data-t-listing_location_title=\"Almadies\" data-t-listing_price=\"800000.00\" data-t-listing_product_slugs=\"assignable-silver-priority|listing|paid-listing\" data-t-listing_slug=\"appartement-neuf-a-louer-aux-almadies\" data-t-listing_source=\"ed_sn\" data-t-listing_title=\"Appartement neuf à louer aux Almadies\" data-t-listing_type=\"classified\" method=\"POST\"><input name=\"_token\" type=\"hidden\"/><button aria-label=\"Contacter par Téléphone\" class=\"listing-card__contact__icon-outer\" type=\"submit\"><svg aria-hidden=\"true\" class=\"i i-phone listing-card__contact__icon\"><use xlink:href=\"https://www.expat-dakar.com/assets/ed-site/icons/map.fe1c344c.svg#phone\"></use></svg></button><div class=\"listing-card__contact__number\"><a class=\"listing-card__contact__number-inner\" data-t-contact_context=\"card\" data-t-contact_type=\"phone\" data-t-enquiry-submit=\"\" data-t-listing_category_slug=\"appartements-a-louer\" data-t-listing_category_title=\"Appartements à louer\" data-t-listing_context=\"search\" data-t-listing_currency=\"XOF\" data-t-listing_id=\"5977482\" data-t-listing_location_title=\"Almadies\" data-t-listing_price=\"800000.00\" data-t-listing_product_slugs=\"assignable-silver-priority|listing|paid-listing\" data-t-listing_slug=\"appartement-neuf-a-louer-aux-almadies\" data-t-listing_source=\"ed_sn\" data-t-listing_title=\"Appartement neuf à louer aux Almadies\" data-t-listing_type=\"classified\" href=\"tel:+221781589512\">\n",
       "781589512\n",
       "</a></div></form></object><object alt=\"Contacter par WhatsApp\" class=\"listing-card__contact listing-card__contact--whatsapp\"><div class=\"listing-card__contact__container\"><a aria-label=\"Contacter par WhatsApp\" class=\"listing-card__contact__icon-outer\" data-t-contact_context=\"card\" data-t-contact_type=\"whatsapp\" data-t-enquiry-submit=\"\" data-t-listing_category_slug=\"appartements-a-louer\" data-t-listing_category_title=\"Appartements à louer\" data-t-listing_context=\"search\" data-t-listing_currency=\"XOF\" data-t-listing_id=\"5977482\" data-t-listing_location_title=\"Almadies\" data-t-listing_price=\"800000.00\" data-t-listing_product_slugs=\"assignable-silver-priority|listing|paid-listing\" data-t-listing_slug=\"appartement-neuf-a-louer-aux-almadies\" data-t-listing_source=\"ed_sn\" data-t-listing_title=\"Appartement neuf à louer aux Almadies\" data-t-listing_type=\"classified\" data-whatsapp=\"https://wa.me/221781589512?text=Salut%2C+je+suis+int%C3%A9ress%C3%A9+par+votre+annonce+%3A+https%3A%2F%2Fwww.expat-dakar.com%2Fannonce%2Fappartement-neuf-a-louer-aux-almadies-5977482+sur+Expat-Dakar\" data-whatsapp-track=\"https://www.expat-dakar.com/annonce/appartement-neuf-a-louer-aux-almadies-5977482/view-whatsapp\" href=\"whatsapp://send?abid=%2B221781589512&amp;phone=%2B221781589512&amp;text=Salut%2C%20je%20suis%20int%C3%A9ress%C3%A9%20par%20votre%20annonce%20%3A%20https%3A%2F%2Fwww.expat-dakar.com%2Fannonce%2Fappartement-neuf-a-louer-aux-almadies-5977482%20sur%20Expat-Dakar\" rel=\"noopener noindex nofollow\"><svg aria-hidden=\"true\" class=\"i i-whatsapp listing-card__contact__icon\"><use xlink:href=\"https://www.expat-dakar.com/assets/ed-site/icons/map.fe1c344c.svg#whatsapp\"></use></svg></a></div></object><object alt=\"Contacter via Chat\" class=\"listing-card__contact listing-card__contact--chat\"><form accept-charset=\"UTF-8\" action=\"https://www.expat-dakar.com/compte/profile/mobile-verify/send\" class=\"listing-card__contact__container\" data-t-contact_context=\"card\" data-t-contact_type=\"chat\" data-t-enquiry-auth=\"\" data-t-listing_category_slug=\"appartements-a-louer\" data-t-listing_category_title=\"Appartements à louer\" data-t-listing_context=\"search\" data-t-listing_currency=\"XOF\" data-t-listing_id=\"5977482\" data-t-listing_location_title=\"Almadies\" data-t-listing_price=\"800000.00\" data-t-listing_product_slugs=\"assignable-silver-priority|listing|paid-listing\" data-t-listing_slug=\"appartement-neuf-a-louer-aux-almadies\" data-t-listing_source=\"ed_sn\" data-t-listing_title=\"Appartement neuf à louer aux Almadies\" data-t-listing_type=\"classified\" method=\"GET\"><input name=\"redirect\" type=\"hidden\" value=\"https://www.expat-dakar.com/appartements-a-louer\"/><input name=\"require_mobile_verified\" type=\"hidden\" value=\"1\"/><input name=\"trigger_contact[id]\" type=\"hidden\" value=\"5977482\"/><input name=\"trigger_contact[type]\" type=\"hidden\" value=\"chat\"/><button aria-label=\"Contacter via Chat\" class=\"listing-card__contact__icon-outer\" type=\"submit\"><svg aria-hidden=\"true\" class=\"i i-chat listing-card__contact__icon\"><use xlink:href=\"https://www.expat-dakar.com/assets/ed-site/icons/map.fe1c344c.svg#chat\"></use></svg></button></form></object></div><!--googleon: index--></div></div></div>"
      ]
     },
     "execution_count": 3,
     "metadata": {},
     "output_type": "execute_result"
    }
   ],
   "source": [
    "#recuperer le code html du premier container\n",
    "container = containers[0]\n",
    "container"
   ]
  },
  {
   "cell_type": "code",
   "execution_count": 7,
   "id": "b637f34b",
   "metadata": {},
   "outputs": [
    {
     "ename": "AttributeError",
     "evalue": "'NoneType' object has no attribute 'text'",
     "output_type": "error",
     "traceback": [
      "\u001b[1;31m---------------------------------------------------------------------------\u001b[0m",
      "\u001b[1;31mAttributeError\u001b[0m                            Traceback (most recent call last)",
      "\u001b[1;32mC:\\Users\\MAKHFO~1\\AppData\\Local\\Temp/ipykernel_7744/871821105.py\u001b[0m in \u001b[0;36m<module>\u001b[1;34m\u001b[0m\n\u001b[0;32m      1\u001b[0m \u001b[1;31m#superficie ='listing-card__header__tags__item--square-metres'\u001b[0m\u001b[1;33m\u001b[0m\u001b[1;33m\u001b[0m\u001b[0m\n\u001b[1;32m----> 2\u001b[1;33m \u001b[0msuperficie\u001b[0m \u001b[1;33m=\u001b[0m \u001b[0mcontainer\u001b[0m\u001b[1;33m.\u001b[0m\u001b[0mfind\u001b[0m\u001b[1;33m(\u001b[0m\u001b[1;34m'span'\u001b[0m\u001b[1;33m,\u001b[0m \u001b[0mclass_\u001b[0m \u001b[1;33m=\u001b[0m\u001b[1;34m'listing-card__header__tags__item--square-metres'\u001b[0m\u001b[1;33m)\u001b[0m\u001b[1;33m.\u001b[0m\u001b[0mtext\u001b[0m\u001b[1;33m\u001b[0m\u001b[1;33m\u001b[0m\u001b[0m\n\u001b[0m\u001b[0;32m      3\u001b[0m \u001b[0msuperficie\u001b[0m\u001b[1;33m\u001b[0m\u001b[1;33m\u001b[0m\u001b[0m\n",
      "\u001b[1;31mAttributeError\u001b[0m: 'NoneType' object has no attribute 'text'"
     ]
    }
   ],
   "source": [
    "#superficie ='listing-card__header__tags__item--square-metres'\n",
    "superficie = container.find('span', class_ ='listing-card__header__tags__item--square-metres').text\n",
    "superficie"
   ]
  },
  {
   "cell_type": "code",
   "execution_count": 5,
   "id": "25eb371f",
   "metadata": {},
   "outputs": [],
   "source": [
    "Detail = container.find('div', class_ ='listing-card__header__title').text.replace('\\n','')\n",
    "prix = container.find('span', class_ = 'listing-card__price__value 1').text.replace('\\n','').replace('\\u202f','')\n",
    "chambre = container.find('span', class_ ='listing-card__header__tags__item').text\n",
    "address = container.find('div', class_ = 'listing-card__header__location').text.replace('\\n','')\n",
    "image_lien = soup.find('img', class_='listing-card__image__resource vh-img')['src']"
   ]
  },
  {
   "cell_type": "code",
   "execution_count": null,
   "id": "a9b7eff4",
   "metadata": {},
   "outputs": [],
   "source": [
    "df = pd.DataFrame()\n",
    "for p in range(1,147):\n",
    "  url = f'https://www.expat-dakar.com/appartements-a-louer?page={p}'\n",
    "  res = get(url) #recuperer le code html de la page\n",
    "  soup = bs(res.text ,'html.parser') # code html en objet beautifulsoup\n",
    "  containers = soup.find_all('div', class_ = 'listing-card__content 1')\n",
    "  data =[]\n",
    "  for container in containers:\n",
    "    try:\n",
    "      Detail = container.find('div', class_ ='listing-card__header__title').text.replace('\\n','')\n",
    "      prix = container.find('span', class_ = 'listing-card__price__value 1').text.replace('\\n','').replace('\\u202f','').replace('Cfa','').replace('F','')\n",
    "      chambre = container.find('span', class_ ='listing-card__header__tags__item').text\n",
    "      superficie = container.find('span', class_ ='listing-card__header__tags__item--square-metres').text\n",
    "      address = container.find('div', class_ = 'listing-card__header__location').text.replace('\\n','')\n",
    "      image_lien = soup.find('img', class_='listing-card__image__resource vh-img')['src']\n",
    "      obj = {\n",
    "          'Detail': Detail,\n",
    "          'prix': int(prix),\n",
    "          'address': address,\n",
    "          'image_lien': image_lien,\n",
    "          'chambre': chambre,\n",
    "          'superficie': superficie,\n",
    "      }\n",
    "      data.append(obj)\n",
    "    except:\n",
    "      pass\n",
    "  DF =pd.DataFrame(data)\n",
    "  df = pd.concat([df, DF], axis= 0)"
   ]
  },
  {
   "cell_type": "code",
   "execution_count": null,
   "id": "22587442",
   "metadata": {},
   "outputs": [],
   "source": [
    "#Afficher le dataframe\n",
    "df.head()"
   ]
  },
  {
   "cell_type": "code",
   "execution_count": null,
   "id": "e5c1ec55",
   "metadata": {},
   "outputs": [],
   "source": [
    "# expliquer la variable address, quartier et ville\n",
    "\n",
    "df['nombre_chambre'] = df['chambre'].str.split(' ', n=2, expand=True)[0]\n",
    "df['superficie(m²)'] = df['superficie'].str.split(' ', n=2, expand=True)[0]\n",
    "df.head()"
   ]
  },
  {
   "cell_type": "code",
   "execution_count": null,
   "id": "e8796dac",
   "metadata": {},
   "outputs": [],
   "source": [
    "df.drop(['chambre'], axis=1, inplace =True)\n",
    "df.drop(['superficie'], axis=1, inplace =True)\n",
    "df.head()"
   ]
  },
  {
   "cell_type": "code",
   "execution_count": null,
   "id": "9d2e8ef3",
   "metadata": {},
   "outputs": [],
   "source": [
    "df.shape"
   ]
  },
  {
   "cell_type": "code",
   "execution_count": null,
   "id": "64417085",
   "metadata": {},
   "outputs": [],
   "source": [
    "df.reset_index(drop=True, inplace=True)\n",
    "df.tail()"
   ]
  },
  {
   "cell_type": "code",
   "execution_count": null,
   "id": "c9234230",
   "metadata": {},
   "outputs": [],
   "source": [
    "df.drop_duplicates(inplace=True)"
   ]
  },
  {
   "cell_type": "code",
   "execution_count": null,
   "id": "1b4efee6",
   "metadata": {},
   "outputs": [],
   "source": [
    "df.duplicated().sum()"
   ]
  },
  {
   "cell_type": "code",
   "execution_count": null,
   "id": "983e9012",
   "metadata": {},
   "outputs": [],
   "source": [
    "df.tail()"
   ]
  },
  {
   "cell_type": "code",
   "execution_count": null,
   "id": "6199eefc",
   "metadata": {},
   "outputs": [],
   "source": [
    "df.isnull().sum()"
   ]
  },
  {
   "cell_type": "code",
   "execution_count": null,
   "id": "334135b8",
   "metadata": {},
   "outputs": [],
   "source": [
    "df.shape"
   ]
  },
  {
   "cell_type": "code",
   "execution_count": null,
   "id": "6f12dce2",
   "metadata": {},
   "outputs": [],
   "source": [
    "df.to_csv('expat_dakar_appartement_data_whith_BeautifulSoup.csv', header = True, index = False)\n",
    "df.to_excel('expat_dakar_appartement_data_with_BeautifulSoup.xlsx', header = True, index = False)"
   ]
  },
  {
   "cell_type": "code",
   "execution_count": null,
   "id": "f2073af8",
   "metadata": {},
   "outputs": [],
   "source": []
  }
 ],
 "metadata": {
  "kernelspec": {
   "display_name": "Python 3 (ipykernel)",
   "language": "python",
   "name": "python3"
  },
  "language_info": {
   "codemirror_mode": {
    "name": "ipython",
    "version": 3
   },
   "file_extension": ".py",
   "mimetype": "text/x-python",
   "name": "python",
   "nbconvert_exporter": "python",
   "pygments_lexer": "ipython3",
   "version": "3.9.7"
  }
 },
 "nbformat": 4,
 "nbformat_minor": 5
}
